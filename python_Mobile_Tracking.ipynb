{
  "nbformat": 4,
  "nbformat_minor": 0,
  "metadata": {
    "colab": {
      "provenance": [],
      "authorship_tag": "ABX9TyPpNDIzumQAZNIjQHl3x9Ra",
      "include_colab_link": true
    },
    "kernelspec": {
      "name": "python3",
      "display_name": "Python 3"
    },
    "language_info": {
      "name": "python"
    }
  },
  "cells": [
    {
      "cell_type": "markdown",
      "metadata": {
        "id": "view-in-github",
        "colab_type": "text"
      },
      "source": [
        "<a href=\"https://colab.research.google.com/github/Geeta1999/Mobile-Tracking/blob/main/python_Mobile_Tracking.ipynb\" target=\"_parent\"><img src=\"https://colab.research.google.com/assets/colab-badge.svg\" alt=\"Open In Colab\"/></a>"
      ]
    },
    {
      "cell_type": "code",
      "source": [
        "#first, let's install tne phonenumbers module"
      ],
      "metadata": {
        "id": "Gl0ZK2PZ6wA3"
      },
      "execution_count": null,
      "outputs": []
    },
    {
      "cell_type": "code",
      "source": [
        "pip install phonenumbers"
      ],
      "metadata": {
        "colab": {
          "base_uri": "https://localhost:8080/"
        },
        "id": "jvPBxRNvzmp4",
        "outputId": "dbca1286-bb11-4bb5-a0f5-155148b80281"
      },
      "execution_count": 3,
      "outputs": [
        {
          "output_type": "stream",
          "name": "stdout",
          "text": [
            "Requirement already satisfied: phonenumbers in /usr/local/lib/python3.10/dist-packages (8.13.21)\n"
          ]
        }
      ]
    },
    {
      "cell_type": "code",
      "source": [
        "#then , let's import the mdule\n",
        "import phonenumbers\n",
        "#let's also import the geocoder\n",
        "from phonenumbers import timezone,geocoder,carrier\n",
        "#now, let's specify the phonenumber\n",
        "Number=input(\"Enter Your Phone Number With +__: \")\n",
        "Phone=phonenumbers.parse(Number)\n",
        "\n",
        "Time=timezone.time_zones_for_number(Phone)\n",
        "Car=carrier.name_for_number(Phone,\"en\")\n",
        "#finally, let's display the location of a phone number\n",
        "Reg=geocoder.description_for_number(Phone,\"en\")\n",
        "print(Phone)\n",
        "print(Time)\n",
        "print(Car)\n",
        "print(Reg)"
      ],
      "metadata": {
        "id": "cd9MC5Hj0Glo"
      },
      "execution_count": null,
      "outputs": []
    }
  ]
}